{
 "cells": [
  {
   "cell_type": "code",
   "execution_count": 2,
   "id": "29df4eb2",
   "metadata": {},
   "outputs": [],
   "source": [
    "import numpy as np"
   ]
  },
  {
   "cell_type": "code",
   "execution_count": 10,
   "id": "5f95ce6b",
   "metadata": {
    "scrolled": true
   },
   "outputs": [
    {
     "data": {
      "text/plain": [
       "[1, 3, 5, 3, 7, 1, 9, 3]"
      ]
     },
     "execution_count": 10,
     "metadata": {},
     "output_type": "execute_result"
    }
   ],
   "source": [
    "array=np.array([1, 3, 5, 3, 7, 1, 9, 3])\n",
    "array.tolist()"
   ]
  },
  {
   "cell_type": "code",
   "execution_count": 16,
   "id": "22028b00",
   "metadata": {},
   "outputs": [
    {
     "name": "stdout",
     "output_type": "stream",
     "text": [
      "[[6 4 7]\n",
      " [9 7 9]\n",
      " [5 9 3]]\n",
      "16\n"
     ]
    }
   ],
   "source": [
    "v = np.random.randint(2, 10, size=(3,3))\n",
    "print(v)\n",
    "result = np.trace(v)\n",
    "print(result)"
   ]
  },
  {
   "cell_type": "code",
   "execution_count": 8,
   "id": "a7b6ac84",
   "metadata": {},
   "outputs": [
    {
     "name": "stdout",
     "output_type": "stream",
     "text": [
      "[[21  7 12]\n",
      " [33  4 20]\n",
      " [26 30 33]]\n",
      "[21 33 20 26 30 33]\n"
     ]
    }
   ],
   "source": [
    "w = np.random.randint(1,40, size=(3,3))\n",
    "x = 16\n",
    "print(w)\n",
    "print( w[w>x])"
   ]
  },
  {
   "cell_type": "code",
   "execution_count": 18,
   "id": "7fd66a27",
   "metadata": {},
   "outputs": [
    {
     "name": "stdout",
     "output_type": "stream",
     "text": [
      "[[19 15]\n",
      " [ 9 15]]\n"
     ]
    }
   ],
   "source": [
    "A = np.array([[14,9],[2,7]])\n",
    "B = np.array([[5,6],[7,8]])\n",
    "C = np.add(A,B)\n",
    "print(C)"
   ]
  },
  {
   "cell_type": "code",
   "execution_count": 12,
   "id": "3fa43db2",
   "metadata": {},
   "outputs": [
    {
     "name": "stdout",
     "output_type": "stream",
     "text": [
      "[[ 6.5 -6.5]\n",
      " [ 2.  -2. ]]\n"
     ]
    }
   ],
   "source": [
    "U = np.random.randint(1,17, size=(2,2))\n",
    "Y = U - U.mean(axis=1, keepdims=True)\n",
    "print(Y)"
   ]
  }
 ],
 "metadata": {
  "kernelspec": {
   "display_name": "Python 3",
   "language": "python",
   "name": "python3"
  },
  "language_info": {
   "codemirror_mode": {
    "name": "ipython",
    "version": 3
   },
   "file_extension": ".py",
   "mimetype": "text/x-python",
   "name": "python",
   "nbconvert_exporter": "python",
   "pygments_lexer": "ipython3",
   "version": "3.8.8"
  }
 },
 "nbformat": 4,
 "nbformat_minor": 5
}
