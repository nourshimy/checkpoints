{
 "cells": [
  {
   "cell_type": "code",
   "execution_count": 5,
   "id": "f5cac4b6",
   "metadata": {},
   "outputs": [
    {
     "name": "stdout",
     "output_type": "stream",
     "text": [
      "ENTER FIRST NAME : NOUR\n",
      "ENTER SECOND NAME : ALI\n",
      "RELATIONSHIP : Friends\n"
     ]
    }
   ],
   "source": [
    "def Flames(name1,name2):\n",
    "    YU = name1 + name2\n",
    "\n",
    "    for c in YU:\n",
    "        if YU.count(c) != 1:\n",
    "           \n",
    "            YU = YU.replace(c,\"\")\n",
    "\n",
    "    \n",
    "    number = len(YU) % 6\n",
    "    \n",
    "    WD = \"\"\n",
    "\n",
    "    if number == 1:\n",
    "        WD += \"Friends\"\n",
    "    elif number == 2:\n",
    "        WD += \"Love\"\n",
    "    elif number == 3:\n",
    "        WD += \"Affection\"\n",
    "    elif number == 4:\n",
    "        WD += \"Marriage\"\n",
    "    elif number == 5:\n",
    "        WD += \"Enemy\"\n",
    "    elif number == 0:\n",
    "        WD += \"Siblings\"\n",
    "    else:\n",
    "        pass\n",
    "\n",
    "    return WD\n",
    "\n",
    "n1 = input(\"ENTER FIRST NAME : \").upper()\n",
    "n2 = input(\"ENTER SECOND NAME : \").upper()\n",
    "print(f\"RELATIONSHIP : {Flames(n1,n2)}\")"
   ]
  }
 ],
 "metadata": {
  "kernelspec": {
   "display_name": "Python 3",
   "language": "python",
   "name": "python3"
  },
  "language_info": {
   "codemirror_mode": {
    "name": "ipython",
    "version": 3
   },
   "file_extension": ".py",
   "mimetype": "text/x-python",
   "name": "python",
   "nbconvert_exporter": "python",
   "pygments_lexer": "ipython3",
   "version": "3.8.8"
  }
 },
 "nbformat": 4,
 "nbformat_minor": 5
}
