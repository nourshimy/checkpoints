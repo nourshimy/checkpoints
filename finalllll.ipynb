{
 "cells": [
  {
   "cell_type": "code",
   "execution_count": null,
   "id": "6170bd2f",
   "metadata": {},
   "outputs": [
    {
     "name": "stdout",
     "output_type": "stream",
     "text": [
      "SECONDS:29\n",
      "00:01\r"
     ]
    }
   ],
   "source": [
    "import time\n",
    "def countdown(QW):\n",
    "    while (QW):\n",
    "        mins,secs=divmod(QW,60)\n",
    "        ti='{:02d}:{:02d}'.format(mins,secs)\n",
    "        print(ti,end=\"\\r\")\n",
    "        time.sleep(1)\n",
    "        QW=1\n",
    "    print('somethin')\n",
    "QW=input(\"SECONDS:\") \n",
    "countdown(int(QW))    "
   ]
  }
 ],
 "metadata": {
  "kernelspec": {
   "display_name": "Python 3",
   "language": "python",
   "name": "python3"
  },
  "language_info": {
   "codemirror_mode": {
    "name": "ipython",
    "version": 3
   },
   "file_extension": ".py",
   "mimetype": "text/x-python",
   "name": "python",
   "nbconvert_exporter": "python",
   "pygments_lexer": "ipython3",
   "version": "3.8.8"
  }
 },
 "nbformat": 4,
 "nbformat_minor": 5
}
