{
 "cells": [
  {
   "cell_type": "code",
   "execution_count": 1,
   "id": "e2525a03",
   "metadata": {},
   "outputs": [
    {
     "name": "stdout",
     "output_type": "stream",
     "text": [
      "35\n"
     ]
    }
   ],
   "source": [
    "def max_two( x, y ):\n",
    "    if x > y:\n",
    "        return x\n",
    "    return y\n",
    "def max_three( x, y, z ):\n",
    "    return max_two( x, max_two( y, z ) )\n",
    "print(max_three(20, 35, 19))"
   ]
  },
  {
   "cell_type": "code",
   "execution_count": 2,
   "id": "11b3c3f7",
   "metadata": {},
   "outputs": [
    {
     "name": "stdout",
     "output_type": "stream",
     "text": [
      "(50, 30)\n"
     ]
    }
   ],
   "source": [
    "def calculation(x,y):\n",
    "    return x + y ,x - y\n",
    "rus=(calculation(40,10))\n",
    "print(rus)"
   ]
  },
  {
   "cell_type": "code",
   "execution_count": 3,
   "id": "5d926510",
   "metadata": {},
   "outputs": [
    {
     "name": "stdout",
     "output_type": "stream",
     "text": [
      "10\n",
      "280\n"
     ]
    }
   ],
   "source": [
    "my_list=[0,1,2,3,4]\n",
    "rus=sum(my_list)\n",
    "print(rus)\n",
    "def multiplyList(myList) :\n",
    "    result = 1\n",
    "    for i in myList:\n",
    "         result = result *i\n",
    "    return result\n",
    "list = [7,4,2,5]           \n",
    "print(multiplyList(list)) #i cannot do it"
   ]
  },
  {
   "cell_type": "code",
   "execution_count": 4,
   "id": "45c044ee",
   "metadata": {},
   "outputs": [
    {
     "name": "stdout",
     "output_type": "stream",
     "text": [
      "green-red-yellow-black-white\n",
      "green-red-yellow-black-white\n"
     ]
    }
   ],
   "source": [
    "items=[n for n in input().split(\" \")]\n",
    "items.sort()\n",
    "print(\" \".join(items))"
   ]
  },
  {
   "cell_type": "code",
   "execution_count": 5,
   "id": "c141deb3",
   "metadata": {},
   "outputs": [
    {
     "name": "stdout",
     "output_type": "stream",
     "text": [
      "Provide D: 100,150,180\n",
      "[18, 22, 24]\n"
     ]
    }
   ],
   "source": [
    "import math\n",
    "numbers = input(\"Provide D: \")\n",
    "numbers = numbers.split(',')\n",
    "res_list = []\n",
    "for D in numbers:\n",
    "    Q = round(math.sqrt(2 * 50 * int(D) / 30))\n",
    "    res_list.append(Q)\n",
    "print(res_list)"
   ]
  }
 ],
 "metadata": {
  "kernelspec": {
   "display_name": "Python 3",
   "language": "python",
   "name": "python3"
  },
  "language_info": {
   "codemirror_mode": {
    "name": "ipython",
    "version": 3
   },
   "file_extension": ".py",
   "mimetype": "text/x-python",
   "name": "python",
   "nbconvert_exporter": "python",
   "pygments_lexer": "ipython3",
   "version": "3.8.8"
  }
 },
 "nbformat": 4,
 "nbformat_minor": 5
}
