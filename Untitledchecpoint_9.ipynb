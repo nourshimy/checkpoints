{
  "nbformat": 4,
  "nbformat_minor": 0,
  "metadata": {
    "colab": {
      "name": "Untitledchecpoint 9",
      "provenance": []
    },
    "kernelspec": {
      "name": "python3",
      "display_name": "Python 3"
    },
    "language_info": {
      "name": "python"
    }
  },
  "cells": [
    {
      "cell_type": "code",
      "metadata": {
        "colab": {
          "base_uri": "https://localhost:8080/"
        },
        "id": "yCxSlztfgttC",
        "outputId": "28e502bf-f0f4-4b5d-da9d-3c2a38318f7d"
      },
      "source": [
        "def binary_search(sequence,item):\n",
        "\tfr_index = 0\n",
        "\tls_index = len(sequence)-1\n",
        "\top = False\n",
        "\twhile( fr_index <=ls_index and not op):\n",
        "\t\tmidpoint = (fr_index + ls_index)//2\n",
        "\t\tif sequence[midpoint] == item :\n",
        "\t\t\top = True\n",
        "\t\telse:\n",
        "\t\t\tif item < sequence[midpoint]:\n",
        "\t\t\t\tls_index = midpoint - 1\n",
        "\t\t\telse:\n",
        "\t\t\t\tfr_index = midpoint + 1\t\n",
        "\treturn op\n",
        "print(binary_search([1,2,3,5,8], 5))\n",
        "print(binary_search([1,2,3,5,8], 6))"
      ],
      "execution_count": 38,
      "outputs": [
        {
          "output_type": "stream",
          "name": "stdout",
          "text": [
            "True\n",
            "False\n"
          ]
        }
      ]
    },
    {
      "cell_type": "code",
      "metadata": {
        "colab": {
          "base_uri": "https://localhost:8080/"
        },
        "id": "pA53T2Oj9vBn",
        "outputId": "886f7862-4431-48f6-b749-5090c68f3a0b"
      },
      "source": [
        "def power(a,b):\n",
        "\tif b==0:\n",
        "\t\treturn 1\n",
        "\telse:\n",
        "\t\treturn a*power(a,b-1)\n",
        "print(power(3,4))"
      ],
      "execution_count": 57,
      "outputs": [
        {
          "output_type": "stream",
          "name": "stdout",
          "text": [
            "81\n"
          ]
        }
      ]
    },
    {
      "cell_type": "code",
      "metadata": {
        "colab": {
          "base_uri": "https://localhost:8080/"
        },
        "id": "DDDaQl6ZLMIe",
        "outputId": "35116991-5b9d-40d4-d5f6-db1d0133324e"
      },
      "source": [
        "def bubbleSort(nlist):\n",
        "    for num in range(len(nlist)-1,0,-1):\n",
        "        for i in range(num):\n",
        "            if nlist[i]>nlist[i+1]:\n",
        "                tur = nlist[i]\n",
        "                nlist[i] = nlist[i+1]\n",
        "                nlist[i+1] = tur\n",
        "    return nlist\n",
        "nlist = [29,13,22,37,52,49,46,71,56]\n",
        "bubbleSort(nlist)"
      ],
      "execution_count": 61,
      "outputs": [
        {
          "output_type": "execute_result",
          "data": {
            "text/plain": [
              "[13, 22, 29, 37, 46, 49, 52, 56, 71]"
            ]
          },
          "metadata": {},
          "execution_count": 61
        }
      ]
    },
    {
      "cell_type": "code",
      "metadata": {
        "colab": {
          "base_uri": "https://localhost:8080/"
        },
        "id": "xmdyHmjEd05_",
        "outputId": "52e40a53-079b-4e26-8c03-91eedf465f27"
      },
      "source": [
        "def mergeSort(nlist):\n",
        "    print(nlist)\n",
        "    if len(nlist)>1:\n",
        "        mid = len(nlist)//2\n",
        "        lefthalf = nlist[:mid]\n",
        "        righthalf = nlist[mid:]\n",
        "\n",
        "        mergeSort(lefthalf)\n",
        "        mergeSort(righthalf)\n",
        "        i=j=k=0       \n",
        "        while i < len(lefthalf) and j < len(righthalf):\n",
        "            if lefthalf[i] < righthalf[j]:\n",
        "                nlist[k]=lefthalf[i]\n",
        "                i=i+1\n",
        "            else:\n",
        "                nlist[k]=righthalf[j]\n",
        "                j=j+1\n",
        "            k=k+1\n",
        "\n",
        "        while i < len(lefthalf):\n",
        "            nlist[k]=lefthalf[i]\n",
        "            i=i+1\n",
        "            k=k+1\n",
        "\n",
        "        while j < len(righthalf):\n",
        "            nlist[k]=righthalf[j]\n",
        "            j=j+1\n",
        "            k=k+1\n",
        "    print(nlist)\n",
        "\n",
        "nlist = [29,13,22,37,52,49,46,71,56]\n",
        "mergeSort(nlist)\n",
        "print(nlist)"
      ],
      "execution_count": 64,
      "outputs": [
        {
          "output_type": "stream",
          "name": "stdout",
          "text": [
            "[29, 13, 22, 37, 52, 49, 46, 71, 56]\n",
            "[29, 13, 22, 37]\n",
            "[29, 13]\n",
            "[29]\n",
            "[29]\n",
            "[13]\n",
            "[13]\n",
            "[13, 29]\n",
            "[22, 37]\n",
            "[22]\n",
            "[22]\n",
            "[37]\n",
            "[37]\n",
            "[22, 37]\n",
            "[13, 22, 29, 37]\n",
            "[52, 49, 46, 71, 56]\n",
            "[52, 49]\n",
            "[52]\n",
            "[52]\n",
            "[49]\n",
            "[49]\n",
            "[49, 52]\n",
            "[46, 71, 56]\n",
            "[46]\n",
            "[46]\n",
            "[71, 56]\n",
            "[71]\n",
            "[71]\n",
            "[56]\n",
            "[56]\n",
            "[56, 71]\n",
            "[46, 56, 71]\n",
            "[46, 49, 52, 56, 71]\n",
            "[13, 22, 29, 37, 46, 49, 52, 56, 71]\n",
            "[13, 22, 29, 37, 46, 49, 52, 56, 71]\n"
          ]
        }
      ]
    },
    {
      "cell_type": "code",
      "metadata": {
        "colab": {
          "base_uri": "https://localhost:8080/"
        },
        "id": "pz9YGwT52jwf",
        "outputId": "f1283151-0ea7-4b7a-e1c4-0d359508cbea"
      },
      "source": [
        "def quickSort(strik):\n",
        "   quickSortHlp(strik,0,len(strik)-1)\n",
        "\n",
        "def quickSortHlp(strik,first,last):\n",
        "   if first < last:\n",
        "\n",
        "       splitpoint = partition(strik,first,last)\n",
        "\n",
        "       quickSortHlp(strik,first,splitpoint-1)\n",
        "       quickSortHlp(strik,splitpoint+1,last)\n",
        "\n",
        "\n",
        "def partition(strik,first,last):\n",
        "   pivot = strik[first]\n",
        "\n",
        "   leftmark = first+1\n",
        "   rightmark = last\n",
        "\n",
        "   done = False\n",
        "   while not done:\n",
        "\n",
        "       while leftmark <= rightmark and strik[leftmark] <= pivot:\n",
        "           leftmark = leftmark + 1\n",
        "\n",
        "       while strik[rightmark] >= pivot and rightmark >= leftmark:\n",
        "           rightmark = rightmark -1\n",
        "\n",
        "       if rightmark < leftmark:\n",
        "           done = True\n",
        "       else:\n",
        "           temp = strik[leftmark]\n",
        "           strik[leftmark] = strik[rightmark]\n",
        "           strik[rightmark] = temp\n",
        "\n",
        "   temp = strik[first]\n",
        "   strik[first] = strik[rightmark]\n",
        "   strik[rightmark] = temp\n",
        "\n",
        "\n",
        "   return rightmark\n",
        "\n",
        "strik =  [29,13,22,37,52,49,46,71,56]\n",
        "quickSort(strik)\n",
        "print(strik)"
      ],
      "execution_count": 3,
      "outputs": [
        {
          "output_type": "stream",
          "name": "stdout",
          "text": [
            "[13, 22, 29, 37, 46, 49, 52, 56, 71]\n"
          ]
        }
      ]
    }
  ]
}