{
 "cells": [
  {
   "cell_type": "code",
   "execution_count": 6,
   "id": "4e29cc48",
   "metadata": {},
   "outputs": [
    {
     "name": "stdout",
     "output_type": "stream",
     "text": [
      "1 2 3\n"
     ]
    }
   ],
   "source": [
    "class D3:\n",
    "    def __init__(self, x, y,z):\n",
    "        self.x = x\n",
    "        self.y = y\n",
    "        self.z = z\n",
    "pm =D3(1,2,3)\n",
    "print(pm.x,pm.y,pm.z)"
   ]
  },
  {
   "cell_type": "code",
   "execution_count": 7,
   "id": "26f22431",
   "metadata": {},
   "outputs": [
    {
     "name": "stdout",
     "output_type": "stream",
     "text": [
      "45\n",
      "28\n"
     ]
    }
   ],
   "source": [
    "class rectangle():\n",
    "    def __init__(self,l,w):\n",
    "        self.length = l\n",
    "        self.width  = w\n",
    "    def A(self):\n",
    "        return self.length*self.width\n",
    "    def Per(self):\n",
    "        return 2*(self.length+self.width)\n",
    "ne = rectangle(9,5)\n",
    "print(ne.A())\n",
    "print(ne.Per())"
   ]
  },
  {
   "cell_type": "code",
   "execution_count": 4,
   "id": "9731483f",
   "metadata": {},
   "outputs": [
    {
     "name": "stdout",
     "output_type": "stream",
     "text": [
      "28.26\n",
      "18.84\n",
      "The point is inside\n"
     ]
    }
   ],
   "source": [
    "import math\n",
    "class Circle():\n",
    "    def __init__(self, r,x,y):\n",
    "        self.radius = r\n",
    "        self.center = x,y\n",
    "    def area(self):\n",
    "        return self.radius**2*3.14\n",
    "    def perimeter(self):\n",
    "        return 2*self.radius*3.14\n",
    "    def mp(self):\n",
    "        if math.dist([6,9],self.center)>self.radius:\n",
    "            print(\"The point is not inside\")\n",
    "        else: \n",
    "            print(\"The point is inside\")\n",
    "C= Circle(3,8,7)\n",
    "print(C.area())\n",
    "print(C.perimeter())\n",
    "C.mp()"
   ]
  },
  {
   "cell_type": "code",
   "execution_count": 5,
   "id": "c8d73ae7",
   "metadata": {},
   "outputs": [
    {
     "name": "stdout",
     "output_type": "stream",
     "text": [
      "Enter the amount to be deposit:4000\n",
      "4000.0\n",
      "None\n",
      "Enter the amount to be withdraw: 3890\n",
      "110.0\n",
      "None\n"
     ]
    }
   ],
   "source": [
    "class Bank:\n",
    "    def __init__(self):\n",
    "        self.balance = 0\n",
    "    def deposit(self):\n",
    "        amount = float(input(\"Enter the amount to be deposit:\"))\n",
    "        self.balance = self.balance + amount\n",
    "        print(self.balance)   \n",
    "    def withdraw(self):\n",
    "        amount = float(input(\"Enter the amount to be withdraw: \"))\n",
    "        self.balance = self.balance - amount\n",
    "        print(self.balance)\n",
    "acc=Bank()        \n",
    "print(acc.deposit())\n",
    "print(acc.withdraw())"
   ]
  }
 ],
 "metadata": {
  "kernelspec": {
   "display_name": "Python 3",
   "language": "python",
   "name": "python3"
  },
  "language_info": {
   "codemirror_mode": {
    "name": "ipython",
    "version": 3
   },
   "file_extension": ".py",
   "mimetype": "text/x-python",
   "name": "python",
   "nbconvert_exporter": "python",
   "pygments_lexer": "ipython3",
   "version": "3.8.8"
  }
 },
 "nbformat": 4,
 "nbformat_minor": 5
}
