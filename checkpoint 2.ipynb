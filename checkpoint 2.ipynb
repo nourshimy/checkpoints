{
 "cells": [
  {
   "cell_type": "code",
   "execution_count": 1,
   "id": "589dc3f2",
   "metadata": {},
   "outputs": [
    {
     "name": "stdout",
     "output_type": "stream",
     "text": [
      "add first name:nour\n",
      "add last name:sameh\n",
      "hello  sameh  nour\n"
     ]
    }
   ],
   "source": [
    "frname=input(\"add first name:\")\n",
    "lsname=input(\"add last name:\")\n",
    "print(\"hello \",lsname,\"\",frname)"
   ]
  },
  {
   "cell_type": "code",
   "execution_count": 4,
   "id": "e49d294d",
   "metadata": {},
   "outputs": [
    {
     "name": "stdout",
     "output_type": "stream",
     "text": [
      "Enter a number:5\n",
      "The value is: 615\n"
     ]
    }
   ],
   "source": [
    "n=int(input(\"Enter a number:\"))\n",
    "ret=str(n)\n",
    "r1=ret+ret\n",
    "r2=ret+ret+ret\n",
    "caps=n+int(r1)+int(r2)\n",
    "print(\"The value is:\",caps)"
   ]
  },
  {
   "cell_type": "code",
   "execution_count": 3,
   "id": "e6269c2f",
   "metadata": {},
   "outputs": [
    {
     "name": "stdout",
     "output_type": "stream",
     "text": [
      "Enter a number:8\n",
      "The number is Even\n"
     ]
    }
   ],
   "source": [
    "no=int(input(\"Enter a number:\"))\n",
    "if(no%2)==0:\n",
    "    print(\"The number is Even\")\n",
    "else:\n",
    "    print(\"The number is Odd\")"
   ]
  },
  {
   "cell_type": "code",
   "execution_count": 15,
   "id": "307a7fd2",
   "metadata": {},
   "outputs": [
    {
     "name": "stdout",
     "output_type": "stream",
     "text": [
      "2030 2065 2100 2135 2170 2205 2240 2275 2310 2345 2380 2415 2450 2485 2520 2555 2590 2625 2660 2695 2730 2765 2800 2835 2870 2905 2940 2975 3010 3045 3080 3115 3150 3185\n"
     ]
    }
   ],
   "source": [
    "nh=[]\n",
    "for i in range(2000,3200):\n",
    "    if (i%7==0) and (i%5==0):\n",
    "        nh.append(str(i))\n",
    "print (' '.join(nh))"
   ]
  },
  {
   "cell_type": "code",
   "execution_count": 44,
   "id": "03f54f2c",
   "metadata": {},
   "outputs": [
    {
     "name": "stdout",
     "output_type": "stream",
     "text": [
      "Enter a number:4\n",
      "24\n"
     ]
    }
   ],
   "source": [
    "def factorial(a):\n",
    "    if a == 0:\n",
    "        return 1\n",
    "    else:\n",
    "        return a * factorial(a - 1)\n",
    "a=int(input(\"Enter a number:\"))\n",
    "print(factorial(a))"
   ]
  },
  {
   "cell_type": "code",
   "execution_count": 16,
   "id": "7c689bd0",
   "metadata": {},
   "outputs": [
    {
     "name": "stdout",
     "output_type": "stream",
     "text": [
      "cdn ihgc\n"
     ]
    }
   ],
   "source": [
    "def oddindex(str):\n",
    " ram = \"\"\n",
    " for i in range(len(str)):\n",
    "    if i % 2 == 0:\n",
    "     ram = ram + str[i]\n",
    " return ram\n",
    "\n",
    "print(oddindex(\"coding with gmc\"))"
   ]
  },
  {
   "cell_type": "code",
   "execution_count": 43,
   "id": "fcdcf9cc",
   "metadata": {},
   "outputs": [
    {
     "name": "stdout",
     "output_type": "stream",
     "text": [
      "210.0\n"
     ]
    }
   ],
   "source": [
    "def discount(x):\n",
    "    if x>=500:\n",
    "        return x*50/100\n",
    "    if x in range(200,500): \n",
    "     return x*70/100\n",
    "    if x <=200:\n",
    "        return x*90/100\n",
    "print(discount(300))"
   ]
  }
 ],
 "metadata": {
  "kernelspec": {
   "display_name": "Python 3",
   "language": "python",
   "name": "python3"
  },
  "language_info": {
   "codemirror_mode": {
    "name": "ipython",
    "version": 3
   },
   "file_extension": ".py",
   "mimetype": "text/x-python",
   "name": "python",
   "nbconvert_exporter": "python",
   "pygments_lexer": "ipython3",
   "version": "3.8.8"
  }
 },
 "nbformat": 4,
 "nbformat_minor": 5
}
