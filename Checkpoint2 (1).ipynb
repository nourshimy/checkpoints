{
 "cells": [
  {
   "cell_type": "code",
   "execution_count": 1,
   "id": "2be56c55",
   "metadata": {},
   "outputs": [
    {
     "name": "stdout",
     "output_type": "stream",
     "text": [
      "add first name:Nour\n",
      "add last name:Shimy\n",
      "hello  Shimy  Nour\n"
     ]
    }
   ],
   "source": [
    "frname=input(\"add first name:\")\n",
    "lsname=input(\"add last name:\")\n",
    "print(\"hello \",lsname,\"\",frname)"
   ]
  }
 ],
 "metadata": {
  "kernelspec": {
   "display_name": "Python 3",
   "language": "python",
   "name": "python3"
  },
  "language_info": {
   "codemirror_mode": {
    "name": "ipython",
    "version": 3
   },
   "file_extension": ".py",
   "mimetype": "text/x-python",
   "name": "python",
   "nbconvert_exporter": "python",
   "pygments_lexer": "ipython3",
   "version": "3.8.8"
  }
 },
 "nbformat": 4,
 "nbformat_minor": 5
}
