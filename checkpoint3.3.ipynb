{
 "cells": [
  {
   "cell_type": "code",
   "execution_count": 1,
   "id": "88e456e5",
   "metadata": {},
   "outputs": [
    {
     "name": "stdout",
     "output_type": "stream",
     "text": [
      "180\n"
     ]
    }
   ],
   "source": [
    "def multiply_list(items):\n",
    "    l = 1\n",
    "    for x in items:\n",
    "        l *= x\n",
    "    return l\n",
    "print(multiply_list([4,5,9]))"
   ]
  },
  {
   "cell_type": "code",
   "execution_count": 2,
   "id": "39aea296",
   "metadata": {},
   "outputs": [
    {
     "name": "stdout",
     "output_type": "stream",
     "text": [
      "[(5, 6), (4, 5), (3, 4), (2, 3), (1, 1)]\n"
     ]
    }
   ],
   "source": [
    "my_list=[(4,5),(1,1),(5,6),(3,4),(2,3)]\n",
    "my_list.sort(reverse=True)\n",
    "print(my_list)"
   ]
  },
  {
   "cell_type": "code",
   "execution_count": 3,
   "id": "b215fe81",
   "metadata": {},
   "outputs": [
    {
     "name": "stdout",
     "output_type": "stream",
     "text": [
      "Counter({'a': 400, 'b': 400, 'd': 400, 'c': 300})\n"
     ]
    }
   ],
   "source": [
    "from collections import Counter\n",
    "d1 = {'a': 100, 'b': 200, 'c':300}\n",
    "d2 = {'a': 300, 'b': 200, 'd':400}\n",
    "d3 = Counter(d1) + Counter(d2)\n",
    "print(d3)"
   ]
  },
  {
   "cell_type": "code",
   "execution_count": 8,
   "id": "6ef6e09d",
   "metadata": {
    "scrolled": false
   },
   "outputs": [
    {
     "name": "stdout",
     "output_type": "stream",
     "text": [
      "{1: 1, 2: 4, 3: 9, 4: 16, 5: 25, 6: 36, 7: 49, 8: 64}\n"
     ]
    }
   ],
   "source": [
    "dic={}\n",
    "for i in range(1,9):\n",
    "    dic[i]= i*i\n",
    "dic\n",
    "print(dic)"
   ]
  },
  {
   "cell_type": "code",
   "execution_count": null,
   "id": "bcbed837",
   "metadata": {},
   "outputs": [],
   "source": [
    "def tuplesort(a):\n",
    "   return(sorted(a, key = lambda x: float(x[1]), reverse = True))\n",
    "a= [('cell1', '19.215'), ('cell2', '10.117'), ('cell3', '14.589'), ('cell4', '14.216'), ('cell5', '8.365')]\n",
    "print(tuplesort(a))"
   ]
  }
 ],
 "metadata": {
  "kernelspec": {
   "display_name": "Python 3",
   "language": "python",
   "name": "python3"
  },
  "language_info": {
   "codemirror_mode": {
    "name": "ipython",
    "version": 3
   },
   "file_extension": ".py",
   "mimetype": "text/x-python",
   "name": "python",
   "nbconvert_exporter": "python",
   "pygments_lexer": "ipython3",
   "version": "3.8.8"
  }
 },
 "nbformat": 4,
 "nbformat_minor": 5
}
